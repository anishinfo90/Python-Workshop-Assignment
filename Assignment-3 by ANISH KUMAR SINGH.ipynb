{
 "cells": [
  {
   "cell_type": "markdown",
   "id": "f6b8758e",
   "metadata": {},
   "source": [
    "# ANISH KUMAR SINGH........................................................19BCA090"
   ]
  },
  {
   "cell_type": "markdown",
   "id": "93de132e",
   "metadata": {},
   "source": [
    "# 1. Write a Python function to find the Max of three numbers.\n"
   ]
  },
  {
   "cell_type": "code",
   "execution_count": 1,
   "id": "e383e01d",
   "metadata": {},
   "outputs": [],
   "source": [
    "def max( x, y ):\n",
    "\n",
    "    if x > y:\n",
    "\n",
    "        return x\n",
    "\n",
    "    return y\n",
    "\n",
    "def maxx( x, y, z ):\n",
    "\n",
    "    return max( x, max( y, z ) )"
   ]
  },
  {
   "cell_type": "code",
   "execution_count": 2,
   "id": "98caacba",
   "metadata": {},
   "outputs": [
    {
     "name": "stdout",
     "output_type": "stream",
     "text": [
      "max number is  8\n"
     ]
    }
   ],
   "source": [
    "print(\"max number is \",maxx(8, 6, 2,))"
   ]
  },
  {
   "cell_type": "markdown",
   "id": "5938fb71",
   "metadata": {},
   "source": [
    "# Write a Python function to multiply all the numbers in a list."
   ]
  },
  {
   "cell_type": "code",
   "execution_count": 3,
   "id": "1a1133ed",
   "metadata": {},
   "outputs": [],
   "source": [
    "def multiplyList(List) :\n",
    "    output = 1\n",
    "    for i in List:\n",
    "        output = output * i\n",
    "    return output"
   ]
  },
  {
   "cell_type": "code",
   "execution_count": 4,
   "id": "0b3eb09f",
   "metadata": {},
   "outputs": [],
   "source": [
    "list1 = [1, 2, 3]"
   ]
  },
  {
   "cell_type": "code",
   "execution_count": 5,
   "id": "97a2832e",
   "metadata": {},
   "outputs": [
    {
     "name": "stdout",
     "output_type": "stream",
     "text": [
      "The list is equal to  6\n"
     ]
    }
   ],
   "source": [
    "print(\"The list is equal to \",multiplyList(list1))"
   ]
  },
  {
   "cell_type": "markdown",
   "id": "3e119d08",
   "metadata": {},
   "source": [
    "#  Write a Python function that accepts a string and calculate the number of upper case letters and lower case letters."
   ]
  },
  {
   "cell_type": "code",
   "execution_count": 6,
   "id": "ca66a25b",
   "metadata": {},
   "outputs": [
    {
     "name": "stdout",
     "output_type": "stream",
     "text": [
      "Original String :  If  You Will it means You Can\n",
      "No. of Upper case :  5\n",
      "No. of Lower case :  17\n"
     ]
    }
   ],
   "source": [
    "def string_test(s):\n",
    "    d={\"UPPER_CASE\":0, \"LOWER_CASE\":0}\n",
    "    for c in s:\n",
    "        if c.isupper():\n",
    "           d[\"UPPER_CASE\"]+=1\n",
    "        elif c.islower():\n",
    "           d[\"LOWER_CASE\"]+=1\n",
    "        else:\n",
    "           pass\n",
    "    print (\"Original String : \", s)\n",
    "    print (\"No. of Upper case : \", d[\"UPPER_CASE\"])\n",
    "    print (\"No. of Lower case : \", d[\"LOWER_CASE\"])\n",
    "\n",
    "string_test('If  You Will it means You Can')\n"
   ]
  },
  {
   "cell_type": "markdown",
   "id": "ed6f2790",
   "metadata": {},
   "source": [
    "# Write a Python function that checks whether a passed string is palindrome or not."
   ]
  },
  {
   "cell_type": "code",
   "execution_count": 7,
   "id": "57b38255",
   "metadata": {},
   "outputs": [],
   "source": [
    "def isPalindrome(string):\n",
    "    left_pos = 0\n",
    "    right_pos = len(string) - 1\n",
    "\n",
    "    while right_pos >= left_pos:\n",
    "        if not string[left_pos] == string[right_pos]:\n",
    "            return False\n",
    "        left_pos += 1\n",
    "        right_pos -= 1\n",
    "        return True"
   ]
  },
  {
   "cell_type": "code",
   "execution_count": 8,
   "id": "11a15d81",
   "metadata": {},
   "outputs": [
    {
     "name": "stdout",
     "output_type": "stream",
     "text": [
      "True\n"
     ]
    }
   ],
   "source": [
    "print(isPalindrome('amaama')) "
   ]
  },
  {
   "cell_type": "markdown",
   "id": "fc9e71b9",
   "metadata": {},
   "source": [
    "# Write a Python program to print the even numbers from a given list. "
   ]
  },
  {
   "cell_type": "code",
   "execution_count": 9,
   "id": "3c56e960",
   "metadata": {},
   "outputs": [],
   "source": [
    "list1 = [3, 2, 4, 8, 99, 33]"
   ]
  },
  {
   "cell_type": "code",
   "execution_count": 10,
   "id": "16d34c6d",
   "metadata": {},
   "outputs": [
    {
     "name": "stdout",
     "output_type": "stream",
     "text": [
      "2 4 8 "
     ]
    }
   ],
   "source": [
    "for n in list1:\n",
    "\n",
    "    if n % 2 == 0:\n",
    "        print(n, end = \" \")"
   ]
  }
 ],
 "metadata": {
  "kernelspec": {
   "display_name": "Python 3",
   "language": "python",
   "name": "python3"
  },
  "language_info": {
   "codemirror_mode": {
    "name": "ipython",
    "version": 3
   },
   "file_extension": ".py",
   "mimetype": "text/x-python",
   "name": "python",
   "nbconvert_exporter": "python",
   "pygments_lexer": "ipython3",
   "version": "3.8.8"
  }
 },
 "nbformat": 4,
 "nbformat_minor": 5
}
